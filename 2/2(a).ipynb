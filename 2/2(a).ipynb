{
  "nbformat": 4,
  "nbformat_minor": 0,
  "metadata": {
    "colab": {
      "provenance": []
    },
    "kernelspec": {
      "name": "python3",
      "display_name": "Python 3"
    },
    "language_info": {
      "name": "python"
    }
  },
  "cells": [
    {
      "cell_type": "code",
      "source": [
        "import numpy as np\n",
        "import gym"
      ],
      "metadata": {
        "id": "62sW6AMVBDdR"
      },
      "execution_count": 46,
      "outputs": []
    },
    {
      "cell_type": "code",
      "source": [
        "def policy_evaluation(env, policy, gamma=0.9, theta=1e-6):\n",
        "    \"\"\"\n",
        "    Perform policy evaluation to estimate the value function V_pi for a given policy.\n",
        "\n",
        "    Args:\n",
        "    - env: Gym environment\n",
        "    - policy: A numpy array representing the policy\n",
        "    - gamma: Discount factor\n",
        "    - theta: A small positive number for stopping criterion\n",
        "\n",
        "    Returns:\n",
        "    - V: A numpy array representing the value function V_pi\n",
        "    \"\"\"\n",
        "    num_states = env.observation_space.n\n",
        "    V = np.zeros(num_states)\n",
        "\n",
        "    num_iterations = 0\n",
        "    while True:\n",
        "        delta = 0\n",
        "        for s in range(num_states):\n",
        "            v = 0\n",
        "            a = policy[s]\n",
        "            for prob, next_state, reward, _ in env.P[s][a]:\n",
        "              v += prob * (reward + gamma * V[next_state])\n",
        "            delta = max(delta, np.abs(v - V[s]))\n",
        "            V[s] = v\n",
        "        num_iterations += 1\n",
        "        if delta < theta:\n",
        "            break\n",
        "    return V, num_iterations"
      ],
      "metadata": {
        "id": "cHd7M8YT0kfA"
      },
      "execution_count": 47,
      "outputs": []
    },
    {
      "cell_type": "code",
      "source": [
        "def policy_improvement(env, V, gamma=0.9):\n",
        "    \"\"\"\n",
        "    Perform policy improvement to update the policy based on the current value function.\n",
        "\n",
        "    Args:\n",
        "    - env: Gym environment\n",
        "    - V: A numpy array representing the value function\n",
        "    - gamma: Discount factor\n",
        "\n",
        "    Returns:\n",
        "    - new_policy: A numpy array representing the updated policy\n",
        "    \"\"\"\n",
        "    num_states = env.observation_space.n\n",
        "    num_actions = env.action_space.n\n",
        "    new_policy = np.zeros(num_states, dtype = int)\n",
        "\n",
        "    for s in range(num_states):\n",
        "        q_values = np.zeros(num_actions)\n",
        "        for a in range(num_actions):\n",
        "            for prob, next_state, reward, _ in env.P[s][a]:\n",
        "                q_values[a] += prob * (reward + gamma * V[next_state])\n",
        "        best_action = np.argmax(q_values)\n",
        "        new_policy[s] = best_action\n",
        "    return new_policy"
      ],
      "metadata": {
        "id": "HERyQBzE0khx"
      },
      "execution_count": 48,
      "outputs": []
    },
    {
      "cell_type": "code",
      "source": [
        "def policy_iteration(env):\n",
        "    \"\"\"\n",
        "    Perform Policy Iteration algorithm to find the optimal policy.\n",
        "\n",
        "    Args:\n",
        "    - env: Gym environment\n",
        "    - gamma: Discount factor\n",
        "    - max_iterations: Maximum number of policy evaluation and improvement iterations\n",
        "\n",
        "    Returns:\n",
        "    - optimal_policy: A numpy array representing the optimal policy\n",
        "    - V: A numpy array representing the value function for the optimal policy\n",
        "    - num_iterations: Number of iterations performed\n",
        "    \"\"\"\n",
        "    num_states = env.observation_space.n\n",
        "    num_actions = env.action_space.n\n",
        "    policy = np.random.choice(num_actions, size = (num_states))\n",
        "\n",
        "    num_iterations = 0\n",
        "    while True:\n",
        "      value_pi, eval_iterations = policy_evaluation(env, policy)\n",
        "      new_policy = policy_improvement(env,value_pi)\n",
        "      if np.array_equal(new_policy, policy):\n",
        "          break\n",
        "      policy = new_policy\n",
        "      num_iterations += 1\n",
        "    return policy, num_iterations, eval_iterations,value_pi"
      ],
      "metadata": {
        "id": "YdFpbi2Q0kkC"
      },
      "execution_count": 49,
      "outputs": []
    },
    {
      "cell_type": "code",
      "source": [
        "def value_iteration(env, gamma=0.9, theta=1e-6):\n",
        "    \"\"\"\n",
        "    Perform Value Iteration algorithm to find the optimal policy.\n",
        "\n",
        "    Args:\n",
        "    - env: Gym environment\n",
        "    - gamma: Discount factor\n",
        "    - theta: A small positive number for stopping criterion\n",
        "\n",
        "    Returns:\n",
        "    - optimal_policy: A numpy array representing the optimal policy\n",
        "    - V: A numpy array representing the value function for the optimal policy\n",
        "    - num_iterations: Number of iterations performed\n",
        "    \"\"\"\n",
        "    num_states = env.observation_space.n\n",
        "    num_actions = env.action_space.n\n",
        "    V = np.zeros(num_states)\n",
        "\n",
        "    num_iterations = 0\n",
        "    while True:\n",
        "        delta = 0\n",
        "        for s in range(num_states):\n",
        "            v = V[s]\n",
        "            q_values = np.zeros(num_actions)\n",
        "            for a in range(num_actions):\n",
        "                for prob, next_state, reward, _ in env.P[s][a]:\n",
        "                    q_values[a] += prob * (reward + gamma * V[next_state])\n",
        "            V[s] = max(q_values)\n",
        "            delta = max(delta, abs(v - V[s]))\n",
        "        num_iterations += 1\n",
        "        if delta < theta:\n",
        "            break\n",
        "\n",
        "    optimal_policy = find_policy(V)\n",
        "    return optimal_policy, num_iterations, V"
      ],
      "metadata": {
        "id": "LVPL-4Kp0kmY"
      },
      "execution_count": 50,
      "outputs": []
    },
    {
      "cell_type": "code",
      "source": [
        "def find_policy(V):\n",
        "  value_matrix = V.reshape(4,4)\n",
        "\n",
        "  r, c = value_matrix.shape\n",
        "  directions = np.zeros((r, c), dtype=int)\n",
        "\n",
        "  for i in range(r):\n",
        "    for j in range(c):\n",
        "      value = value_matrix[i][j]\n",
        "      max = value\n",
        "      direction = -1\n",
        "\n",
        "      neighbors = [(i - 1, j), (i + 1, j), (i, j - 1), (i, j + 1)]\n",
        "\n",
        "      for a, b in neighbors:\n",
        "        if 0 <= a < r and 0 <= b < c and value_matrix[a, b] > max:\n",
        "          max = value_matrix[a, b]\n",
        "          direction = neighbors.index((a, b))\n",
        "\n",
        "        directions[i, j] = direction\n",
        "\n",
        "  directions = directions.reshape(-1)\n",
        "  return directions"
      ],
      "metadata": {
        "id": "rt3sVRMs015Y"
      },
      "execution_count": 51,
      "outputs": []
    },
    {
      "cell_type": "code",
      "source": [
        "# Testing Policy Iteration and Value Iteration on Frozen Lake\n",
        "if __name__ == \"__main__\":\n",
        "    env = gym.make('FrozenLake-v1', is_slippery=True)\n",
        "\n",
        "    # Value Iteration\n",
        "    print(\"\\nValue Iteration:\")\n",
        "    policy, iterations, V = value_iteration(env)\n",
        "    print(f\"Optimal Policy:\\n{policy}\")\n",
        "    print(f\"Number of Iterations: {iterations}\")\n",
        "    print(f\"Optimal Value Function:\\n{V}\")\n",
        "\n",
        "    # Policy Iteration\n",
        "    print(\"Policy Iteration:\")\n",
        "    policy, iterations, eval_iterations, V = policy_iteration(env)\n",
        "    print(f\"Optimal Policy :\\n{policy}\")\n",
        "    print(f\"Number of Iterations: {eval_iterations}\")\n",
        "    print(f\"Number of Iterations: {iterations}\")"
      ],
      "metadata": {
        "colab": {
          "base_uri": "https://localhost:8080/"
        },
        "id": "S_VP2CDh06UR",
        "outputId": "c60eccfd-fa4f-4a7c-b31e-8ab180324b3d"
      },
      "execution_count": 52,
      "outputs": [
        {
          "output_type": "stream",
          "name": "stdout",
          "text": [
            "\n",
            "Value Iteration:\n",
            "Optimal Policy:\n",
            "[ 1  3  1  2  1  1  1  2  3  1  1  2  3  3 -1  2]\n",
            "Number of Iterations: 60\n",
            "Optimal Value Function:\n",
            "[0.06888624 0.06141117 0.07440763 0.05580502 0.09185097 0.\n",
            " 0.11220727 0.         0.14543392 0.24749561 0.29961676 0.\n",
            " 0.         0.37993504 0.63901974 0.        ]\n",
            "Policy Iteration:\n",
            "Optimal Policy :\n",
            "[0 3 0 3 0 0 0 0 3 1 0 0 0 2 1 0]\n",
            "Number of Iterations: 61\n",
            "Number of Iterations: 2\n"
          ]
        }
      ]
    }
  ]
}